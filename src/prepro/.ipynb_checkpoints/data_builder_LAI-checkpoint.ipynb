{
 "cells": [
  {
   "cell_type": "code",
   "execution_count": 14,
   "metadata": {},
   "outputs": [],
   "source": [
    "import gc\n",
    "import glob\n",
    "import hashlib\n",
    "import itertools\n",
    "import json\n",
    "import os\n",
    "import re\n",
    "import subprocess\n",
    "import time\n",
    "from os.path import join as pjoin\n",
    "\n",
    "import torch\n",
    "from multiprocess import Pool\n",
    "from pytorch_pretrained_bert import BertTokenizer\n",
    "\n",
    "import sys\n",
    "o_path = \"../\"\n",
    "sys.path.append(o_path)\n",
    "\n",
    "from others.logging import logger\n",
    "from others.utils import clean\n",
    "from prepro.utils import _get_word_ngrams"
   ]
  },
  {
   "cell_type": "code",
   "execution_count": 8,
   "metadata": {},
   "outputs": [
    {
     "data": {
      "text/plain": [
       "'/Users/admin/Desktop/Mission/Experiment_Fine-tune_BERT_for_Extractive_Summarization/BertSum-master_Chinese/src/prepro'"
      ]
     },
     "execution_count": 8,
     "metadata": {},
     "output_type": "execute_result"
    }
   ],
   "source": [
    "\"/Users/admin/Desktop/Mission/Experiment_Fine-tune_BERT_for_Extractive_Summarization/BertSum-master_Chinese/src\""
   ]
  },
  {
   "cell_type": "code",
   "execution_count": null,
   "metadata": {},
   "outputs": [],
   "source": []
  }
 ],
 "metadata": {
  "kernelspec": {
   "display_name": "Python 3",
   "language": "python",
   "name": "python3"
  },
  "language_info": {
   "codemirror_mode": {
    "name": "ipython",
    "version": 3
   },
   "file_extension": ".py",
   "mimetype": "text/x-python",
   "name": "python",
   "nbconvert_exporter": "python",
   "pygments_lexer": "ipython3",
   "version": "3.7.3"
  }
 },
 "nbformat": 4,
 "nbformat_minor": 2
}
